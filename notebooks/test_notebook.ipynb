{
 "cells": [
  {
   "cell_type": "code",
   "execution_count": 9,
   "id": "583e4891",
   "metadata": {},
   "outputs": [],
   "source": [
    "import sys\n",
    "import os\n",
    "\n",
    "# Go up one level (from notebooks/ to project root)\n",
    "sys.path.append(os.path.abspath(os.path.join(os.getcwd(), '..')))"
   ]
  },
  {
   "cell_type": "code",
   "execution_count": 22,
   "id": "e56870ee",
   "metadata": {},
   "outputs": [],
   "source": [
    "from dotenv import load_dotenv\n",
    "\n",
    "load_dotenv()\n",
    "OPENAI_API_KEY = os.getenv(\"OPENAI_API_KEY\")\n",
    "OPENAI_MODEL_NAME = os.getenv(\"OPENAI_MODEL_NAME\", \"o4-mini\")"
   ]
  },
  {
   "cell_type": "code",
   "execution_count": 2,
   "id": "561a4dee",
   "metadata": {},
   "outputs": [],
   "source": [
    "from PyPDF2 import PdfReader\n",
    "\n",
    "def load_pdf(file_path):\n",
    "    reader = PdfReader(file_path)\n",
    "    text = \"\\n\".join([page.extract_text() for page in reader.pages if page.extract_text()])\n",
    "    return text"
   ]
  },
  {
   "cell_type": "code",
   "execution_count": 5,
   "id": "1e2275c2",
   "metadata": {},
   "outputs": [],
   "source": [
    "FILE_PATH = \"../data/Handelsblatt_Artikel_Dobelli.pdf\""
   ]
  },
  {
   "cell_type": "code",
   "execution_count": 6,
   "id": "dc599d02",
   "metadata": {},
   "outputs": [
    {
     "data": {
      "text/plain": [
       "'19.04.25, 17:36Geldanlage: „Je kompetenter Sie sind, desto konzentrierter sollte Ihr Depot sein“\\nPage 1 of 15https://www.handelsblatt.com/finanzen/anlagestrategie/geldanlage-je…-sie-sind-desto-konzentrierter-sollte-ihr-depot-sein/100105520.htmlGeldanlage„Je kompetenter Sie sind,desto konzentrierter sollte IhrDepot sein“Rolf Dobelli hat viele Gesichter – das des Investorsist weniger bekannt. Hier verrät er erstmals, wie ersein Geld anlegt, wieso er weiter auf die USA setzt– und große Beträge nur bar zahlt.Benjamin Ansari18.04.2025 - 08:17 UhrArtikel anhören24:39\\nRolf Dobelli: Mit Ehefrau und Zwillingssöhnen wohnt er in Bern. Foto: IMAGO/Newscom / El Pais\\nFrankfurt. Steht ein schwerreicher Philosoph am Stehtisch und lästert über all dieFondsmanager, die sich um ihn scharen. So beginnt kein schlechter Witz, sondernder Nachmittag von Rolf Dobelli.An diesem Frühlingstag Anfang April steht der Schweizer Starautor in blauem Anzugmit Einstecktuch im Congress Center der Frankfurter Messe vor einem Glas Mango-Persönlicher Ausdruck von jonny.p.hh@gmail.com\\n19.04.25, 17:36Geldanlage: „Je kompetenter Sie sind, desto konzentrierter sollte Ihr Depot sein“\\nPage 2 of 15https://www.handelsblatt.com/finanzen/anlagestrategie/geldanlage-je…-sie-sind-desto-konzentrierter-sollte-ihr-depot-sein/100105520.htmlSo gut wie Rolf Dobelli können nur wenige die Psychologie des Alltags und die Kunstgelungener Lebensführung erklären. Bestseller wie „Die Kunst des klaren Denkens“,„Die Kunst des klugen Handelns“ und „Die Kunst des guten Lebens“ sind Klassikerder Ratgeberliteratur. Mit mehr als vier Millionen verkauften Büchern gilt der 58-Jährige als erfolgreichster Schweizer Sachbuchautor.\\nUnd kennt beide Welten: Kunst und Wirtschaft. Dobelli promovierte in BWL undPhilosophie an der Universität St. Gallen, arbeitete als Finanzchef einer Swissair-mit Einstecktuch im Congress Center der Frankfurter Messe vor einem Glas Mango-Orangen-Saft und wartet darauf, dass er verkabelt wird, dran ist mit seinem Vortrag.Denn gleich referiert Dobelli als Speaker zu seinem Lieblingsthema, hier auf demInstitutional Money Kongress 2025, dem größten Branchentreﬀ für institutionelleAnleger aus der DACH-Region.Erst schimpft Dobelli aber über aktive Investoren. Er blickt in der Kongresshalleumher, zeigt auf die vielen Männer in Anzügen und wenigen Frauen in Blazern undsagt: „85 Prozent der Fondsmanager schlagen den Markt nicht – vernichten nur dasGeld ihrer Kunden.“Woran das liege? Weil bei aktiven Fonds Management-Fee und Performancegebührstark auf die Rendite drückten. Und am Herdentrieb: Aus der Masse ausscheren wollebloß keiner. Psychologisch sei das angenehm: Fallen die Aktienkurse, sei das bei allenso. Wer nicht als Einziger Verluste macht, könne sich dann gut rausreden. Und wenndie Kurse doch steigen? „Dann kann man sagen: Es liegt an mir, ich bin ein Genie.“\\nBeim Institutional Money Kongress 2025 ist Dobelli Speaker. Foto: Jose Poblete, Instituional Money\\n\\n19.04.25, 17:36Geldanlage: „Je kompetenter Sie sind, desto konzentrierter sollte Ihr Depot sein“\\nPage 3 of 15https://www.handelsblatt.com/finanzen/anlagestrategie/geldanlage-je…-sie-sind-desto-konzentrierter-sollte-ihr-depot-sein/100105520.htmlPhilosophie an der Universität St. Gallen, arbeitete als Finanzchef einer Swissair-Tochter und gründete mit „Get Abstract“ den weltgrößten Verlag für komprimierteWirtschaftsliteratur. Für die weltweit wichtigste FinanznachrichtenagenturBloomberg moderierte er neun Jahre lang die Sendung „Seitenweise Wirtschaft“.Dobelli ist ein Mann mit vielen Gesichtern und Talenten – und einem klarenErfolgsrezept. Darüber spricht er gern und viel und später noch viel mehr.Verwandte Themen\\nNun will er aber erst mal, wie sollte es an Ort und Stelle auf dem Money-Kongressauch anders sein, über das liebe Geld sprechen. Denn die Seite des Investors Dobelliist noch unbekannt.Lesen Sie hier das ganze Interview mit Rolf DobelliHerr Dobelli, wie halten Sie es mit der Geldanlage?Ein Teil meines Vermögens steckt in Festgeld. Dazu kommen zehn Prozent Gold alsNotgroschen. Ich investiere konservativ – aber auch in Aktien.In welche?In einen ETF auf den größten US-Index S&P 500.Dazu rät auch Ihr großes Vorbild, Star-Investor Warren Buﬀett. Der hattestamentarisch verfügt, seine Frau solle das vererbte Geld schlicht zu 90 Prozentin einen Indexfonds auf den S&P 500 stecken.Buﬀett schaﬀt es, den Markt langfristig outzuperformen. Weil er viel Energie und Zeitin die Analyse von Firmen investiert und langfristig überlegt, wo sie in 30 Jahrenstehen. Bei der Geldanlage bin ich Jünger von Buﬀett und Charlie Munger.Sie sind also Value-Investor.Ja. Ich lese sehr gerne Buﬀetts Shareholder Letters. Die gibt es frei zugänglich aufder Website von Berkshire Hathaway. Damit lässt sich seine raﬃnierte Denke vielbesser verstehen.Stecken Sie monatlich per Sparplan Geld in den ETF?Nein, immer mal wieder. Wenn ich ein neues Buch schreibe und Gewinne mache,ChinaFolgenMicrosoftFolgenBerkshire …FolgenBitcoinFolgen\\n19.04.25, 17:36Geldanlage: „Je kompetenter Sie sind, desto konzentrierter sollte Ihr Depot sein“\\nPage 4 of 15https://www.handelsblatt.com/finanzen/anlagestrategie/geldanlage-je…-sie-sind-desto-konzentrierter-sollte-ihr-depot-sein/100105520.htmlNein, immer mal wieder. Wenn ich ein neues Buch schreibe und Gewinne mache,ﬂießen die dort rein.Rolf Dobelli\\nAktuell ist ein hoher USA-Anteil im Depot dank Donald Trumps erratischerWirtschafts- und Handelspolitik sehr ungünstig.Langfristig glaube ich an den US-Markt und bleibe meiner Strategie treu. Egal, wieviele Ausschläge es nun dank Trump gibt. Ich will ja noch 30 Jahre lang leben.Bislang wurden auch die schlimmsten Ausschläge in zehn oder 20 Jahren wiederaufgeholt.Besitzen Sie auch Einzelaktien?Drei. Allesamt aus der Schweiz. Diese Firmen kann ich analysieren. Weil ichManagement und Produkt kenne und mir Bilanzen und Gewinn- und Verlustrechnunganschaue. Vor allem aber weiß ich hier, wie die Manager ticken, dass sie gut führenund langfristig denken.Weil Sie sie persönlich kennen?Das auch. Aber natürlich geben die mir auch keine Insiderinfos.Ist ein gutes Management das Wichtigste?Hohe Eintrittsbarrieren halte ich für noch wichtiger. Wer einen Burggraben hat, istklar im Vorteil. Aber klar, den zu schaﬀen und langfristig zu erhalten, ist Job desManagements.Welche drei Aktien halten Sie genau?Eine kann ich verraten: die Jungfraubahn. Die betreibt eine Zahnradbahn bis auf dasJungfraujoch zur höchsten Eisenbahnstation Europas. Anders als etwa bei Tesla,Microsoft oder der UBS kann ich mir sicher sein, dass die Bahn noch in 100 Jahrenexistiert. Denn es gibt keine Konkurrenz, und es wird nie eine geben. Dazu wird dasJungfraujoch wegen der Erderwärmung innerhalb Europas wohl der letzteverbliebene Gletscher sein, den man noch besichtigen kann.Der MenschDer Autor\\n19.04.25, 17:36Geldanlage: „Je kompetenter Sie sind, desto konzentrierter sollte Ihr Depot sein“\\nPage 5 of 15https://www.handelsblatt.com/finanzen/anlagestrategie/geldanlage-je…-sie-sind-desto-konzentrierter-sollte-ihr-depot-sein/100105520.htmlJe kompetenter Sie sind und je mehr Siewissen, desto konzentrierter kann und sollteIhr Depot sein.Rolf DobelliKlingt nach einem großen Burggraben.Es ist die maximale Monopolstellung. So todsicher wie ein Bankkonto, mit einernetten Dividende obendrauf. Dazu ist die Aktie mit einem Kurs-Gewinn-Verhältnis von13 sehr günstig bewertet. Ich liebe diese Firma.Drei Aktien sind nicht viel. Ein gut diversiﬁziertes Depot besteht eigentlich eheraus 20 bis 30 Einzeltiteln.Nein, das ist viel zu viel. Charlie Munger hielt in seinem Familienportfolio nur dreiPositionen: die eigene Holding Berkshire Hathaway, den US-Einzelhändler CostcoWholesale und den auf China fokussierten Investmentfonds Himalaya Capital.Warren Buﬀett hatte auch mal nur zwei oder drei Beteiligungen. Solche Portfoliossind natürlich sehr konzentriert. Aber: Je kompetenter Sie sind und je mehr Siewissen, desto konzentrierter kann und sollte Ihr Depot sein.Mehr Lebenshilfe von Literaten\\nHaben Sie auch China im Depot?Nein. Mir ist die Rechnungslegung in Asien zu intransparent. Ich vertraue denBilanzen aus China und Indien nicht. Ob das alles so stimmt?Ist Überrendite Ihr Anspruch als Investor?Rolf Dobelli„ Wer Buchhalter werden will, kann meinetwegen BWL studieren. Alleanderen sollten es lassen. “Martin Suter und Benjamin von Stuckrad-Barre„Ab ungefähr 70 kann man auch über Heroin nochmal neu nachdenken“Michael Kobr„Ein enspannter Umgang mit Geld erleichtert das V erdienen enorm“\\n19.04.25, 17:36Geldanlage: „Je kompetenter Sie sind, desto konzentrierter sollte Ihr Depot sein“\\nPage 6 of 15https://www.handelsblatt.com/finanzen/anlagestrategie/geldanlage-je…-sie-sind-desto-konzentrierter-sollte-ihr-depot-sein/100105520.htmlMir reicht es, mit dem Markt mitzulaufen. Überrendite erzielen ist superschwierig.Wie soll man wissen, wo Firmen in ferner Zukunft stehen? Der Wert einer Firmabemisst sich ja nicht am heutigen Gewinn, sondern an der Summe aller bis in dieEwigkeit abdiskontierten Cashﬂows. Doch die abzuschätzen, ist unmöglich, außerman kennt sich in einer spezialisierten Industrie oder einem Nischenmarkt sehr gutaus. Oder man heißt Warren Buﬀett und setzt auf sehr stabile Unternehmen.» Lesen Sie auch: Bei diesen drei Aktien kauft Warren Buﬀett für 562 Millionen Dollarnach Die breite Masse sollte also eher auf ETFs setzen.Ja. Wer diversiﬁziert, gibt zu, dass er nichts weiß. Kauft schlicht den Index undverlässt sich darauf. So mache ich das auch, weil ich weder Zeit noch Muße habe,stundenlang Bilanzen zu analysieren.Was halten Sie von Kryptowährungen?Gar nichts.Für viele ist der Bitcoin eine Art digitales Gold, ein Inﬂationsschutz für unsichereZeiten.Für mich ist er schlicht Nullen und Einsen ohne Gegenwert. Mich wundert, dass derAlgorithmus noch nie gehackt wurde. Vielleicht gelingt das einer KI bald mal. Golddagegen können Sie nicht hacken.Besitzen Sie Betongold?Nur das Haus in Bern, in dem ich mit meiner Ehefrau und unseren Zwillingen wohne.Das habe ich damals komplett in bar bezahlt.» Lesen Sie auch: Diese Villa soll 80 Millionen Euro kosten – Wer kauft solcheImmobilien? Auch keine Ferienhäuser?Nein, das ist doch stressig. Dann fühlt man sich verpﬂichtet, im Urlaub immerdorthin zu fahren.Haben Sie noch nie etwas auf Kredit ﬁnanziert?Da bin ich alte Schule. Ob für Auto, Uhr oder Haus: Schulden habe ich noch nieaufgenommen. Und kaufe etwas erst, wenn ich das Geld in bar auf den Tisch legenkann.Eine sehr schweizerische Antwort.Ja, ja. So sind wir eben.Wieso Dobelli Nachrichten meidet\\n19.04.25, 17:36Geldanlage: „Je kompetenter Sie sind, desto konzentrierter sollte Ihr Depot sein“\\nPage 7 of 15https://www.handelsblatt.com/finanzen/anlagestrategie/geldanlage-je…-sie-sind-desto-konzentrierter-sollte-ihr-depot-sein/100105520.htmlUm 15.15 Uhr lutscht Dobelli am Stehtisch in der Kongresshalle einTraubenzuckerbonbon mit Zitronengeschmack, „damit der Glukosespiegel gleichstimmt“, sagt er. In zehn Minuten referiert er in Saal 10 zu „News Avoidance: Warumman nicht alles lesen muss.“ Seinem Lieblingsthema.Denn zwölf lange Jahre lang, von 2010 bis 2022, verzichtete Dobelli ganz aufNachrichten. Er sagt: „News sind wie Junkfood, für den Geist das, was Zucker fürden Körper ist. Appetitlich, leicht verdaulich und gleichzeitig höchst schädlich.“News seien „Energiefresser“ und „Hirnblockierer“, ihn störe vor allem das„Kurzfutter“: Headlines, kurze Meldungen, Liveberichte zu aktuellen Lagen. Dieses„Kurzfutter“ schenke die Illusion von Wissen – aber keinerlei tiefes Verständnis.Dazu raubten Nachrichten das Gefühl eigener Handlungsmacht. Denn das Gros derEreignisse, die zeitgleich irgendwo in der Welt gerade stattﬁnden, könne manschlicht nicht beeinﬂussen. Diese Ohnmacht beim Lesen negativer Nachrichten lösejedes Mal kleine Stressreaktionen im Körper aus. Die Folge: „Man leidet unterchronischem Stress und altert schneller. Körperlich und psychisch.“Längere Formate als Weg zu WeltverständnisIn einem Essay für die Zeitschrift „Schweizer Monat“ plädierte Dobelli 2013 daherfür eine „radikale Newsdiät“ und die konzentrierte Lektüre von längeren Artikeln,Magazingeschichten, Essays und Büchern. Längere Formate (wie dies hier) stelltendie Komplexität der Welt besser dar und schenkten\\xa0dank Hintergrundinfos und guterRecherche tieferes Weltverständnis. Auch mit seinem Bestseller „Die Kunst desdigitalen Lebens“ schlug Dobelli in die gleiche Kerbe: Tiefe statt Breite – wider dieInformationsﬂut.\\n19.04.25, 17:36Geldanlage: „Je kompetenter Sie sind, desto konzentrierter sollte Ihr Depot sein“\\nPage 8 of 15https://www.handelsblatt.com/finanzen/anlagestrategie/geldanlage-je…-sie-sind-desto-konzentrierter-sollte-ihr-depot-sein/100105520.htmlDoch so ganz ohne kann selbst Dobelli nicht. Seit Beginn des russischenAngriﬀskriegs in der Ukraine im Februar 2022 liest Dobelli wieder 15 Minuten Newspro Woche – weil er muss: Dobelli ist Gründer der Community World.Minds, diegeopolitische Panels mit Botschaftern, Premierministern und Armeegenerälenorganisiert. Daher muss er informiert bleiben zu den Brennpunkten in der Ukraine,Israel und Taiwan; dazu dienen vier Quellen: die „New York Times“, der „Economist“,die „NZZ“ und der „New Yorker“. Mehr nicht.Bill Gates oder Bill Ackman? Dobelli kennt sie alleGestartet hatte die Community 2008 in der Old Fashion Bar in Zürich. Dorthin hatteDobelli damals 20 Forscher und 20 CEOs eingeladen. Die Wissenschaftler sollten denGeschäftslenkern ihre Forschung erklären.Heute besteht World.Minds aus 1500 Menschen, laut Satzung mehrheitlich Forscherund maximal 500 aus der Wirtschaftswelt. Darunter sind Star-Investoren wie HenryKravis und Bill Ackman, der verstorbene Charlie Munger gehörte auch dazu;Architekt Norman Foster, Schriftstellerin Margaret Atwood, Künstler Ai Weiwei, Ex-CIA-Chef David Petraeus, Microsoft-Gründer Bill Gates.Zweimal pro Monat treﬀen sie sich virtuell in sogenannten „Espresso calls“, sagtDobelli. Dazu immer mal wieder physisch. Zuletzt in Zürich, im Sommer dann inWashington und Warschau. Er selbst sei sonst aber die meiste Zeit des Jahres beiseiner Ehefrau Sabine und den Zwillingssöhnen in der Wahlheimat Bern.15 Minuten pro Woche liest Dobelli dann doch Nachrichten. Foto: Ulrich Baumgarten/Getty Images\\n19.04.25, 17:36Geldanlage: „Je kompetenter Sie sind, desto konzentrierter sollte Ihr Depot sein“\\nPage 9 of 15https://www.handelsblatt.com/finanzen/anlagestrategie/geldanlage-je…-sie-sind-desto-konzentrierter-sollte-ihr-depot-sein/100105520.htmlDobellis neues Buch wirft viele Fragen aufDenn Dobelli beschränkt sich nicht nur in Sachen News – sondern auch beiöﬀentlichen Auftritten: Vorträge wie diesen halte er nur viermal im Jahr. Je nachdem,wie oft ein neues Buch erscheine, und im Dezember erscheine schon wieder einneues Fragebogen-Buch, sein drittes bislang.„Die Lebenskunst der Selbstbefragung hat literarische Tradition“, sagt er. Bekanntseien die Werke von Marcel Proust, Sigmund Freud und\\xa0– natürlich – von Max Frisch.Der wohl größte Schriftsteller der Schweiz stellte seinen Tagebüchern Fragebögenvoran, zu existenziellen Themen wie Freundschaft, Ehe, Heimat oder Humor. „Fürmich ist Frisch der Gott der Literatur“, sagt Dobelli, „seine Fragen sind brillant.“So sieht Dobellis Erfolgsgeheimnis ausMax Frisch und Warren Buﬀett. Und wieder diese beiden Welten im Leben des RolfDobelli: Literatur und Wirtschaft. Der alte Zwist aus Kunst und Ökonomie. EinGegensatzpaar ist das für Dobelli nicht, ganz im Gegenteil.Dobelli referiert auf dem Institutional Money Kongress 2025 zu News Avoidance, kognitiven Verzerrungen undVerhaltensökonomie. Foto: Jose Poblete, Institutional Money\\n19.04.25, 17:36Geldanlage: „Je kompetenter Sie sind, desto konzentrierter sollte Ihr Depot sein“\\nPage 10 of 15https://www.handelsblatt.com/finanzen/anlagestrategie/geldanlage-je…sie-sind-desto-konzentrierter-sollte-ihr-depot-sein/100105520.htmlWie er diese Welten für sich vereine? Mit starrem Fokus weg von der Welt hin zumeigenen „Kompetenzkreis“. Der Begriﬀ geht auf – natürlich – Warren Buﬀett zurück:Es ist der Bereich, in dem ein Mensch überdurchschnittliche Fähigkeiten aufweistund dadurch in Job und Leben glänzt.Herr Dobelli, was ist Ihr Kompetenzkreis?Erkenntnisse der Psychologie und Lebensführung allgemein verständlich zu machen.Psychologische Fachaufsätze versteht kein Mensch. Ich übersetze die Forschung füralle in vernünftige, klare und verständliche Sprache.Das war’s?Da gibt’s noch einen zweiten. Ob früher bei Get Abstract oder heute bei World.Minds:Ich stelle verschiedene Themen – nicht nur Psychologie, auch Wissenschaft,Wirtschaft, Geopolitik – so zusammen, dass sie alle verstehen. Dieses Verdichten undVerständlichmachen ist der rote Faden.Und Romaneschreiben gehört nicht dazu? Mit 35 Jahren schrieben Sie Ihren erstenvon bis heute vier Romanen: „Fünfunddreißig“ über einen Marketingchef in derMidlifecrisis.Nein. Ich kann Romane schreiben, wenn es sein muss – bin aber leider nichtüberdurchschnittlich gut darin.Mehr aus dem Handelsblatt-WochenendeWarren Buﬀett: Der Starinvestor ist Dobelli größtes Vorbild\\xa0– neben dem Schweizer Schriftsteller Max Frisch.Foto: dpa\\nDonald Trump„ Wir haben einen Präsidenten, der ganz klar wie ein König regieren will“Der schöne SchlussNeue Rebsorten retten die Zukunft der Weinregion BordeauxHandelsblatt-AutotestSo niedlich kann ein Handelskon!ikt sein – Der Leapmotor T03 im T est\\n19.04.25, 17:36Geldanlage: „Je kompetenter Sie sind, desto konzentrierter sollte Ihr Depot sein“\\nPage 11 of 15https://www.handelsblatt.com/finanzen/anlagestrategie/geldanlage-je…sie-sind-desto-konzentrierter-sollte-ihr-depot-sein/100105520.htmlAlso lieber Sachbücher. Wie viele Kompetenzkreise kann ein Mensch überhaupthaben?Sehr wenige. Maximal drei. Genau das ist ja ihr Sinn und Zweck. Sie sollten IhrenKreis stetig ausbauen und stärken, sonst investiert ein anderer mehr Zeit darein undwird irgendwann besser als Sie.Es gibt beruﬂiche und private Kompetenzkreise. Was ist Ihr privater?Ich will für meine Söhne der beste Vater und für meine Frau der beste Ehemann sein.Zum Glück gibt es da weniger Konkurrenz, keiner will mir meine Position streitigmachen. Zumindest weiß ich von keinem.Was bringt dieser Fokus auf den Kompetenzkreis überhaupt?Skalierbarkeit. Früher erntete ein sehr guter Bauer vielleicht zehn Prozent mehrErtrag aus seinem Boden als ein durchschnittlicher – heute ist das anders: Wennheute ein spezialisierter Anwalt oder Fondsmanager 20 Prozent besser als seine Peersist, verdient er nicht 20 Prozent mehr, sondern hundert- oder tausendmal so viel. Weiler dank seines Kompetenzkreises so viel Wert für andere generiert und dafür mitexponentiell steigendem Einkommen belohnt wird.Ist das immer so?Todsicher ist nichts. Macht eine AI den eigenen Job mal viel besser, wird der schnellobsolet. Der Kompetenzkreis des besten Kutschenbauers der Welt vor 120 Jahrenwurde auch vom Auto überholt.Die KI-Revolution kann also schon etwas verändern.Klar.\\n19.04.25, 17:36Geldanlage: „Je kompetenter Sie sind, desto konzentrierter sollte Ihr Depot sein“\\nPage 12 of 15https://www.handelsblatt.com/finanzen/anlagestrategie/geldanlage-je…sie-sind-desto-konzentrierter-sollte-ihr-depot-sein/100105520.htmlVielen dürfte es schwerfallen, sich in bestimmten Bereichen zu begrenzen oder garUnwissenheit zuzumuten.Fängt man erst mal an, wird es immer leichter. Um meinen Newskonsum zubeschränken, habe ich drei Grundregeln.Welche?1. Ich produziere mehr, als ich konsumiere: Produzieren heißt nicht gleich, Bücher zuschreiben, sondern auch, mir Gedanken zu machen, mit meinen Kindern oderMitarbeitern zu sprechen. 2. Ich denke nach, bevor ich konsumiere, frage mich schonvorher: Welche oﬀenen Fragen habe ich? Wie würde ich selbst den Inhaltstrukturieren? Um das Wissensgebiet vorzuordnen. 3. Ich setze das eben Gelerntekonkret um: Erzähle es dem Hund. Mache Notizen. Erstelle eine Mindmap. Auf keinenFall springe ich gleich weiter zum nächsten Artikel oder Video oder Podcast.Mindmap klingt schon sehr nach Schule.Darauf schwört ein befreundeter Milliardär. Ich schreibe auch lieber Notizen. Aber erist sehr überzeugt.Wie ﬁnde ich nun meinen Kompetenzkreis raus?Das geht in 30 Minuten. Notieren Sie sich auf einem Blatt Papier alle Punkte, indenen Sie seit der Schulzeit nachweislich überdurchschnittlich gut waren. Bei denmeisten Menschen zeigt sich dann ein roter Faden, das ist Ihr Kompetenzkreis.Und wenn ich das nicht weiß?Dann fragen Sie Ihre Eltern, Freunde oder den Ehepartner. Jemand, der ehrlich zuIhnen ist und Sie gut und lange kennt. So ﬁnden Sie Ihre Stärken schnell raus.Kann ich nicht einfach auf meine innere Stimme hören?Nein! Unsere innere Stimme ist kein guter Kompass, sondern reines Chaos. EineMomentaufnahme, abhängig von der Tagesform: Je nachdem, wie gut wir geschlafenoder was wir gegessen haben. Wir suchen aber einen roten Faden.Dass man sich selbst ums Verrecken bis insletzte kleine Detail verstehen muss – waszum T eufel soll das bringen?Rolf Dobelli (rechts) mit Handelsblatt-Redakteur Benjamin Ansari in der Frankfurter Messe. Foto: JosePoblete, Institutional Money\\n19.04.25, 17:36Geldanlage: „Je kompetenter Sie sind, desto konzentrierter sollte Ihr Depot sein“\\nPage 13 of 15https://www.handelsblatt.com/finanzen/anlagestrategie/geldanlage-je…sie-sind-desto-konzentrierter-sollte-ihr-depot-sein/100105520.htmlzum T eufel soll das bringen?Rolf DobelliMit Selbstreﬂexion können wir diesen Faden doch leichter herausﬁnden. \\xa0Ganz im Gegenteil schadet ständige Selbstreﬂexion eher. Diese Verklärung desInnenlebens – der Glaube, die eigene Stimme weise uns den Weg durchs Leben – istein neuer Trend. Eine romantische Idee. Denn mit der Romantik wurde das Selbststark aufgebläht. Es gilt heute als undenkbar, nicht der eigenen Stimme zu folgen.Dabei wäre genau das nötig.Wieso?Man muss sich nicht selbst verstehen mit all seinen Widersprüchen und Wünschen.Es reicht zu wissen, worin man überdurchschnittlich gut ist. Das baut man dann aus.Dass man sich selbst ums Verrecken bis ins letzte kleine Detail verstehen muss – waszum Teufel soll das bringen?Selbsterkenntnis.Menschen machen Psychotherapie, gehen zu Selbsterfahrungsgruppen odermeditieren im Schweigekloster. Was soll dabei an neuen Erkenntnissen aus unseremInnersten herauskommen? Nur das, was wir schon wissen: Wir sind vielleicht eherintrovertiert, haben gewisse Präferenzen, mögen dies oder jenes nicht. Wir sindheute alle viel zu sehr auf unser Selbst fokussiert.Sie plädieren für mehr Außen- statt Innenwahrnehmung?Ja. Der Stoizismus hat mich sehr geprägt. Wie die alten Stoiker will ich möglichstvernünftig durchs Leben gehen. Rational denken und handeln und ein guter Menschsein.\\nUnd Themen außerhalb Ihres Kompetenzkreises beachten Sie dann gar nicht?Doch, einen halben Tag pro Woche reserviere ich mir dafür.Schauen Sie dann Reality-TV oder Netﬂix-Serien?Auf gar keinen Fall! So frivol konsumieren kann ich nicht.Aber das ist doch gut zur Zerstreuung. Auch keine Dokus über das britischeKönigshaus?Noch schlimmer. Nein, ich arbeite dann konzentriert ein Thema durch, das ichResilienzWas in ungewissen Zeiten gelassener macht\\n19.04.25, 17:36Geldanlage: „Je kompetenter Sie sind, desto konzentrierter sollte Ihr Depot sein“\\nPage 14 of 15https://www.handelsblatt.com/finanzen/anlagestrategie/geldanlage-je…sie-sind-desto-konzentrierter-sollte-ihr-depot-sein/100105520.htmlNoch schlimmer. Nein, ich arbeite dann konzentriert ein Thema durch, das ichverstehen will. Und zur Zerstreuung höre ich Jazz.Wieso Dobelli so gern in der Schweiz lebtUm 16.50 Uhr ist Rolf Dobelli geschaﬀt. Er zieht sein blaues Sakko aus und lässt sichauf einem Sessel in der Kongresshalle nieder. Kurz hat er noch Zeit, dann muss erzurück nach Bern. „Ich nehme stets auf gut Glück den ersten Zug in RichtungSchweiz“, sagt er. „Der bleibt eh irgendwann stecken oder fällt aus, und man mussschauen, wie man weiterkommt.“ Also lieber früher als später los.„Ich bin sehr froh darüber, in der Schweiz zu leben – und nicht in Deutschland.“Wieso das Land so super funktioniere? Sicher gebe es da diese Faktoren – politischeNeutralität, großer Wohlstand, direkte Demokratie, starker Finanzsektor,geopolitische Lage –, doch zur Wahrheit gehöre auch: „Wir wurden in denWeltkriegen verschont. Hatten geschichtlich viel Schwein. Ganz viel Glück und etwasMut.“\\nDie Politik spiele dabei eine Nebenrolle. „Ich könnte Ihnen nicht mal die Namen derRegierungsmitglieder sagen.“ Sowieso seien die sieben Bundesräte nebensächlich,ob gut oder schlecht, man könnte dort fast jeden reinsetzen. Die SchweizerParlamentarier tagten viermal im Jahr drei Wochen und hätten eigentlich einenHauptjob.„Wir haben keine Berufspolitiker-Kaste wie in Deutschland mit hauptberuﬂichenNationalrat in Bern: Häuﬁg tagen die Schweizer Parlamentarier nicht. Foto: dpa\\n19.04.25, 17:36Geldanlage: „Je kompetenter Sie sind, desto konzentrierter sollte Ihr Depot sein“\\nPage 15 of 15https://www.handelsblatt.com/finanzen/anlagestrategie/geldanlage-je…sie-sind-desto-konzentrierter-sollte-ihr-depot-sein/100105520.html„Wir haben keine Berufspolitiker-Kaste wie in Deutschland mit hauptberuﬂichenBundestagssitzenden.“ Stattdessen herrsche in der Schweiz das McDonald’s-Prinzip:„Die Intelligenz steckt im System.“Dobellis privates Glück ist sein größter ErfolgJa, er schätze sich sehr froh, dort zu leben. Und in Bern, der, was viele nicht wüsstenund ihn sehr wurme, Hauptstadt der Schweiz, lebe es sich nun mal besonders gut.Findet sogar seine deutsche Frau, die Schriftstellerin Clara Maria Bagus, die aus demhessischen Marburg kommt.Herr Dobelli, wie haben Sie Ihre Ehefrau kennengelernt?Das war kurios. 2010, als ich 44 Jahre alt war, kam sie in Luzern zu einer Lesungmeines Romans „Massimo Marini“. Das war zum Glück einer meiner besserenRomane. Bei der Lesung signierte ich ihr Buchexemplar und dachte mir nur, wow. Siefand mich dann auch okay.Sie pﬂegen selbst die Kunst der Selbstbefragung. Folgendes: Wenn Sie Ihre Fraudurch einen Heiratsvermittler kennengelernt hätten, welche Provision hätten Siegezahlt?Ich hätte Abermillionen bezahlt. Unbezahlbar wäre das.Wie in der Mastercard-Werbung.Hätte ich für meine Frau zahlen müssen, wäre das die allerbeste Investition gewesen.Stattdessen bekam ich sie sogar gratis.Auch dank Ihres Zutuns. Denn ohne Roman keine Lesung und damit auch keinKennenlernen.Ich bin sehr dankbar dafür. Eine gute Ehe ist so viel wert. Wenn ich in eine Sache imLeben am meisten Geld investiert hätte, dann wäre es das: eine gute Ehepartnerin.Mehr: „Millionäre in Deutschland haben 60 Mal mehr Vermögen als Milliardäre“Erstpublikation: 17.04.2025, 09:51 Uhr.'"
      ]
     },
     "execution_count": 6,
     "metadata": {},
     "output_type": "execute_result"
    }
   ],
   "source": [
    "load_pdf(FILE_PATH)"
   ]
  },
  {
   "cell_type": "code",
   "execution_count": 10,
   "id": "c2f34f44",
   "metadata": {},
   "outputs": [
    {
     "name": "stderr",
     "output_type": "stream",
     "text": [
      "/var/folders/2x/vcryf4w947j2hgyynh9njl140000gn/T/ipykernel_1461/2874186048.py:6: LangChainDeprecationWarning: The class `OpenAIEmbeddings` was deprecated in LangChain 0.0.9 and will be removed in 1.0. An updated version of the class exists in the :class:`~langchain-openai package and should be used instead. To use it run `pip install -U :class:`~langchain-openai` and import as `from :class:`~langchain_openai import OpenAIEmbeddings``.\n",
      "  embedding = OpenAIEmbeddings(openai_api_key=OPENAI_API_KEY)\n"
     ]
    }
   ],
   "source": [
    "from langchain.embeddings import OpenAIEmbeddings\n",
    "from langchain.vectorstores import Chroma\n",
    "from langchain.text_splitter import RecursiveCharacterTextSplitter\n",
    "from src.config import OPENAI_API_KEY\n",
    "\n",
    "embedding = OpenAIEmbeddings(openai_api_key=OPENAI_API_KEY)\n",
    "\n",
    "splitter = RecursiveCharacterTextSplitter(chunk_size=500, chunk_overlap=50)\n",
    "\n",
    "def embed_and_store(text, persist_directory=\".chroma\"):\n",
    "    docs = splitter.create_documents([text])\n",
    "    vectordb = Chroma.from_documents(docs, embedding, persist_directory=persist_directory)\n",
    "    vectordb.persist()\n",
    "    return vectordb\n"
   ]
  },
  {
   "cell_type": "code",
   "execution_count": 34,
   "id": "c51cd72e",
   "metadata": {},
   "outputs": [],
   "source": [
    "persist_directory = \".chroma\"\n",
    "\n",
    "def setup_vectordb():\n",
    "    embedding = OpenAIEmbeddings(openai_api_key=OPENAI_API_KEY)\n",
    "    try:\n",
    "        vectordb = Chroma(persist_directory=persist_directory, embedding_function=embedding)\n",
    "        # Maybe also check if vectordb is empty here if you want\n",
    "        print(\"VectorDB loaded from disk.\")\n",
    "    except Exception as e:\n",
    "        print(\"No existing VectorDB found. You may need to ingest documents first.\")\n",
    "        raise e\n",
    "    return vectordb"
   ]
  },
  {
   "cell_type": "code",
   "execution_count": 40,
   "id": "58bb5d63",
   "metadata": {},
   "outputs": [
    {
     "name": "stdout",
     "output_type": "stream",
     "text": [
      "VectorDB loaded from disk.\n"
     ]
    }
   ],
   "source": [
    "from langchain.vectorstores import Chroma\n",
    "from langchain.chains import RetrievalQA\n",
    "# from langchain.llms import OpenAI\n",
    "from langchain.chat_models import ChatOpenAI\n",
    "from langchain.embeddings import OpenAIEmbeddings\n",
    "from src.config import OPENAI_API_KEY\n",
    "\n",
    "vectordb = setup_vectordb()\n",
    "\n",
    "def ask(query, llm, vectordb):\n",
    "    # embedding = OpenAIEmbeddings(openai_api_key=OPENAI_API_KEY)\n",
    "    # vectordb = Chroma(persist_directory=persist_directory, embedding_function=embedding)\n",
    "    retriever = vectordb.as_retriever()\n",
    "    qa = RetrievalQA.from_chain_type(\n",
    "        llm=llm,\n",
    "        retriever=retriever,\n",
    "        return_source_documents=True\n",
    "    )\n",
    "    result = qa.invoke({\"query\": query})\n",
    "\n",
    "    answer = result.get(\"result\", \"No answer found.\")\n",
    "    source_docs = result.get(\"source_documents\", [])\n",
    "    print(source_docs)\n",
    "\n",
    "    print(\"\\nAnswer:\\n\" + answer)\n",
    "    if source_docs:\n",
    "        print(\"\\nSources:\")\n",
    "        for i, doc in enumerate(source_docs):\n",
    "            print(f\"[{i+1}] {doc.metadata.get('source', 'Unknown source')}\")\n",
    "    else:\n",
    "        print(\"\\nNo sources found.\")\n",
    "\n",
    "    return answer"
   ]
  },
  {
   "cell_type": "code",
   "execution_count": null,
   "id": "7e01f114",
   "metadata": {},
   "outputs": [
    {
     "name": "stderr",
     "output_type": "stream",
     "text": [
      "/var/folders/2x/vcryf4w947j2hgyynh9njl140000gn/T/ipykernel_1461/2874186048.py:13: LangChainDeprecationWarning: Since Chroma 0.4.x the manual persistence method is no longer supported as docs are automatically persisted.\n",
      "  vectordb.persist()\n"
     ]
    },
    {
     "name": "stdout",
     "output_type": "stream",
     "text": [
      "VectorDB loaded from disk.\n",
      "\n",
      "Answer:\n",
      "The piece is a profile-style interview with bestselling author and Unternehmer Rolf Dobelli. It covers:  \n",
      "• His “Erfolgsrezept” – wie er arbeitet, sich auf ein Thema konzentriert und zur Zerstreuung Jazz hört  \n",
      "• Seine Haltung zum ständigen „Self-deep-dive“ und warum er sich nicht bis ins letzte Detail analysieren muss  \n",
      "• Das Zusammenspiel von Literatur und Wirtschaft in seinem Leben  \n",
      "• Seine Vorträge zu News Avoidance, kognitiven Verzerrungen und Verhaltensökonomie  \n",
      "• Und ganz praktisch: warum er gern in der Schweiz lebt und wie er seinen Alltag organisiert.\n",
      "\n",
      "Sources:\n",
      "[1] Unknown source\n",
      "[2] Unknown source\n",
      "[3] Unknown source\n",
      "[4] Unknown source\n"
     ]
    },
    {
     "data": {
      "text/plain": [
       "'The piece is a profile-style interview with bestselling author and Unternehmer Rolf Dobelli. It covers:  \\n• His “Erfolgsrezept” – wie er arbeitet, sich auf ein Thema konzentriert und zur Zerstreuung Jazz hört  \\n• Seine Haltung zum ständigen „Self-deep-dive“ und warum er sich nicht bis ins letzte Detail analysieren muss  \\n• Das Zusammenspiel von Literatur und Wirtschaft in seinem Leben  \\n• Seine Vorträge zu News Avoidance, kognitiven Verzerrungen und Verhaltensökonomie  \\n• Und ganz praktisch: warum er gern in der Schweiz lebt und wie er seinen Alltag organisiert.'"
      ]
     },
     "execution_count": 36,
     "metadata": {},
     "output_type": "execute_result"
    }
   ],
   "source": [
    "test_text = load_pdf(FILE_PATH)\n",
    "embed_and_store(test_text)\n",
    "vectordb = setup_vectordb()\n",
    "llm = ChatOpenAI(\n",
    "    openai_api_key=OPENAI_API_KEY,\n",
    "    model_name=OPENAI_MODEL_NAME,\n",
    "    temperature=1.0\n",
    ")\n",
    "\n",
    "ask(\"What is this interview about?\", llm, vectordb)"
   ]
  },
  {
   "cell_type": "code",
   "execution_count": 41,
   "id": "7d1801fa",
   "metadata": {},
   "outputs": [
    {
     "name": "stdout",
     "output_type": "stream",
     "text": [
      "[Document(metadata={}, page_content='Page 14 of 15https://www.handelsblatt.com/finanzen/anlagestrategie/geldanlage-je…sie-sind-desto-konzentrierter-sollte-ihr-depot-sein/100105520.htmlNoch schlimmer. Nein, ich arbeite dann konzentriert ein Thema durch, das ichverstehen will. Und zur Zerstreuung höre ich Jazz.Wieso Dobelli so gern in der Schweiz lebtUm 16.50 Uhr ist Rolf Dobelli geschaﬀt. Er zieht sein blaues Sakko aus und lässt sichauf einem Sessel in der Kongresshalle nieder. Kurz hat er noch Zeit, dann muss erzurück nach Bern.'), Document(metadata={}, page_content='Branchentreﬀ für institutionelleAnleger aus der DACH-Region.Erst schimpft Dobelli aber über aktive Investoren. Er blickt in der Kongresshalleumher, zeigt auf die vielen Männer in Anzügen und wenigen Frauen in Blazern undsagt: „85 Prozent der Fondsmanager schlagen den Markt nicht – vernichten nur dasGeld ihrer Kunden.“Woran das liege? Weil bei aktiven Fonds Management-Fee und Performancegebührstark auf die Rendite drückten. Und am Herdentrieb: Aus der Masse ausscheren wollebloß keiner.'), Document(metadata={}, page_content='Nun will er aber erst mal, wie sollte es an Ort und Stelle auf dem Money-Kongressauch anders sein, über das liebe Geld sprechen. Denn die Seite des Investors Dobelliist noch unbekannt.Lesen Sie hier das ganze Interview mit Rolf DobelliHerr Dobelli, wie halten Sie es mit der Geldanlage?Ein Teil meines Vermögens steckt in Festgeld. Dazu kommen zehn Prozent Gold alsNotgroschen. Ich investiere konservativ – aber auch in Aktien.In welche?In einen ETF auf den größten US-Index S&P 500.Dazu rät auch'), Document(metadata={}, page_content='Page 8 of 15https://www.handelsblatt.com/finanzen/anlagestrategie/geldanlage-je…-sie-sind-desto-konzentrierter-sollte-ihr-depot-sein/100105520.htmlDoch so ganz ohne kann selbst Dobelli nicht. Seit Beginn des russischenAngriﬀskriegs in der Ukraine im Februar 2022 liest Dobelli wieder 15 Minuten Newspro Woche – weil er muss: Dobelli ist Gründer der Community World.Minds, diegeopolitische Panels mit Botschaftern, Premierministern und Armeegenerälenorganisiert. Daher muss er informiert bleiben zu')]\n",
      "\n",
      "Answer:\n",
      "Rolf Dobelli rät nicht in eine Einzel­aktie, sondern in einen ETF auf den US-Standard­index S&P 500 zu investieren.\n",
      "\n",
      "Sources:\n",
      "[1] Unknown source\n",
      "[2] Unknown source\n",
      "[3] Unknown source\n",
      "[4] Unknown source\n"
     ]
    },
    {
     "data": {
      "text/plain": [
       "'Rolf Dobelli rät nicht in eine Einzel\\xadaktie, sondern in einen ETF auf den US-Standard\\xadindex S&P 500 zu investieren.'"
      ]
     },
     "execution_count": 41,
     "metadata": {},
     "output_type": "execute_result"
    }
   ],
   "source": [
    "ask(\"In welche Firma empfiehlt Dobelli zu investieren?\", llm, vectordb)"
   ]
  },
  {
   "cell_type": "code",
   "execution_count": null,
   "id": "58a29269",
   "metadata": {},
   "outputs": [
    {
     "name": "stdout",
     "output_type": "stream",
     "text": [
      "\n",
      "Answer:\n",
      "Das weiß ich leider nicht.\n",
      "\n",
      "Sources:\n",
      "[1] Unknown source\n",
      "[2] Unknown source\n",
      "[3] Unknown source\n",
      "[4] Unknown source\n"
     ]
    },
    {
     "data": {
      "text/plain": [
       "'Das weiß ich leider nicht.'"
      ]
     },
     "execution_count": 38,
     "metadata": {},
     "output_type": "execute_result"
    }
   ],
   "source": [
    "ask(\"In welche Firma hat Dobelli gerne investiert und betrachtet sie als einen Dauerbrenner?\", llm, vectordb)"
   ]
  },
  {
   "cell_type": "code",
   "execution_count": null,
   "id": "1b303af5",
   "metadata": {},
   "outputs": [],
   "source": []
  }
 ],
 "metadata": {
  "kernelspec": {
   "display_name": "hacking_legal",
   "language": "python",
   "name": "python3"
  },
  "language_info": {
   "codemirror_mode": {
    "name": "ipython",
    "version": 3
   },
   "file_extension": ".py",
   "mimetype": "text/x-python",
   "name": "python",
   "nbconvert_exporter": "python",
   "pygments_lexer": "ipython3",
   "version": "3.12.9"
  }
 },
 "nbformat": 4,
 "nbformat_minor": 5
}
